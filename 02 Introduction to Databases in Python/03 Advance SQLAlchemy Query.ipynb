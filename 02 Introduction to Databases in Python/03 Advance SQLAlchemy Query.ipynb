{
 "cells": [
  {
   "cell_type": "code",
   "execution_count": 2,
   "metadata": {},
   "outputs": [],
   "source": [
    "from sqlalchemy import MetaData, Table, select, create_engine, desc\n",
    "\n",
    "engine = create_engine('sqlite:///census.sqlite')\n",
    "connection = engine.connect()  \n",
    "metadata = MetaData()\n",
    "census = Table('census', metadata, autoload = True, autoload_with = engine)"
   ]
  },
  {
   "attachments": {},
   "cell_type": "markdown",
   "metadata": {},
   "source": [
    "# Calculating Value"
   ]
  },
  {
   "cell_type": "code",
   "execution_count": 3,
   "metadata": {},
   "outputs": [
    {
     "name": "stdout",
     "output_type": "stream",
     "text": [
      "[('M', 25201), ('M', 23503), ('M', 21716), ('M', 19677), ('M', 19526)]\n",
      "RMKeyView(['sex', 'pop_change'])\n"
     ]
    }
   ],
   "source": [
    "query = select([census.columns.sex,\n",
    "                (census.columns.pop2008 - \n",
    "                 census.columns.pop2000).label('pop_change')])\n",
    "query = query.group_by(census.columns.age)          # Grouping\n",
    "query = query.order_by(desc('pop_change'))          # Ordering\n",
    "query = query.limit(5)                              # limiting the query\n",
    "results = connection.execute(query).fetchall()\n",
    "print(results)\n",
    "print(results[0].keys())"
   ]
  },
  {
   "cell_type": "code",
   "execution_count": 4,
   "metadata": {},
   "outputs": [
    {
     "name": "stdout",
     "output_type": "stream",
     "text": [
      "302876613\n",
      "three hundred and two million, eight hundred and seventy-six thousand, six hundred and thirteen\n"
     ]
    }
   ],
   "source": [
    "from sqlalchemy import func\n",
    "from num2words import num2words\n",
    "query = select([func.sum(census.columns.pop2008)])\n",
    "\n",
    "results= connection.execute(query).scalar()\n",
    "print(results)\n",
    "print(num2words(results))"
   ]
  },
  {
   "cell_type": "code",
   "execution_count": 5,
   "metadata": {},
   "outputs": [
    {
     "name": "stdout",
     "output_type": "stream",
     "text": [
      "36609002\n",
      "thirty-six million, six hundred and nine thousand and two\n"
     ]
    }
   ],
   "source": [
    "from num2words import num2words\n",
    "from sqlalchemy import func, or_\n",
    "\n",
    "query = select([func.sum(census.columns.pop2008)])\n",
    "query = query.where(census.columns.state == 'California')\n",
    "\n",
    "results= connection.execute(query).scalar()\n",
    "print(results)\n",
    "print(num2words(results))"
   ]
  },
  {
   "cell_type": "code",
   "execution_count": 6,
   "metadata": {},
   "outputs": [
    {
     "name": "stdout",
     "output_type": "stream",
     "text": [
      "56074161\n",
      "fifty-six million, seventy-four thousand, one hundred and sixty-one\n"
     ]
    }
   ],
   "source": [
    "from num2words import num2words\n",
    "from sqlalchemy import func, or_\n",
    "\n",
    "query = select([func.sum(census.columns.pop2008)])\n",
    "query = query.where(\n",
    "                    or_(census.columns.state == 'California',\n",
    "                        census.columns.state == 'New York'))\n",
    "results= connection.execute(query).scalar()\n",
    "print(results)\n",
    "print(num2words(results))"
   ]
  },
  {
   "cell_type": "code",
   "execution_count": 7,
   "metadata": {},
   "outputs": [
    {
     "name": "stdout",
     "output_type": "stream",
     "text": [
      "9439935\n",
      "nine million, four hundred and thirty-nine thousand, nine hundred and thirty-five\n"
     ]
    }
   ],
   "source": [
    "from num2words import num2words\n",
    "from sqlalchemy import func, and_\n",
    "\n",
    "query = select([func.sum(census.columns.pop2008)])\n",
    "query = query.where(\n",
    "                    and_(census.columns.state == 'New York', #Filtering (and) statement\n",
    "                        census.columns.sex == 'M'))\n",
    "results = connection.execute(query).scalar()\n",
    "print(results)\n",
    "print(num2words(results))"
   ]
  },
  {
   "attachments": {},
   "cell_type": "markdown",
   "metadata": {},
   "source": [
    "### Case Statement"
   ]
  },
  {
   "cell_type": "code",
   "execution_count": 8,
   "metadata": {},
   "outputs": [
    {
     "name": "stdout",
     "output_type": "stream",
     "text": [
      "19465159\n",
      "nineteen million, four hundred and sixty-five thousand, one hundred and fifty-nine\n"
     ]
    }
   ],
   "source": [
    "from sqlalchemy import case, func\n",
    "query = select([\n",
    "        func.sum(\n",
    "            case([                                 # We use this if the where statement cannot perform\n",
    "                (census.columns.state == 'New York',\n",
    "                 census.columns.pop2008)\n",
    "            ], else_=0))\n",
    "])\n",
    "\n",
    "results = connection.execute(query).scalar()\n",
    "print(results)\n",
    "print(num2words(results))"
   ]
  },
  {
   "attachments": {},
   "cell_type": "markdown",
   "metadata": {},
   "source": [
    "The previous one will make the same result as this : "
   ]
  },
  {
   "cell_type": "code",
   "execution_count": 9,
   "metadata": {},
   "outputs": [
    {
     "name": "stdout",
     "output_type": "stream",
     "text": [
      "19465159\n",
      "nineteen million, four hundred and sixty-five thousand, one hundred and fifty-nine\n"
     ]
    }
   ],
   "source": [
    "from num2words import num2words\n",
    "from sqlalchemy import func\n",
    "\n",
    "query = select([func.sum(census.columns.pop2008)])\n",
    "query = query.where(census.columns.state == 'New York')\n",
    "\n",
    "results= connection.execute(query).scalar()\n",
    "print(results)\n",
    "print(num2words(results))"
   ]
  },
  {
   "attachments": {},
   "cell_type": "markdown",
   "metadata": {},
   "source": [
    "### Cast Statement"
   ]
  },
  {
   "attachments": {},
   "cell_type": "markdown",
   "metadata": {},
   "source": [
    "The CAST() function converts a value (of any type) into a specified datatype."
   ]
  },
  {
   "cell_type": "code",
   "execution_count": 10,
   "metadata": {},
   "outputs": [
    {
     "name": "stdout",
     "output_type": "stream",
     "text": [
      "6.426761976501632\n",
      "six point four two six seven six one nine seven six five zero one six three two\n"
     ]
    }
   ],
   "source": [
    "from num2words import num2words\n",
    "from sqlalchemy import func, case, cast, Float\n",
    "\n",
    "query = select([\n",
    "                (func.sum(\n",
    "                case([\n",
    "                    (census.columns.state == 'New York',\n",
    "                     census.columns.pop2008)\n",
    "                ], else_=0)) / \n",
    "                cast(func.sum(census.columns.pop2008), Float) * 100).label('ny_percent')])\n",
    "\n",
    "\n",
    "results= connection.execute(query).scalar()\n",
    "print(results)\n",
    "print(num2words(results))"
   ]
  },
  {
   "attachments": {},
   "cell_type": "markdown",
   "metadata": {},
   "source": [
    "# SQL relationship"
   ]
  },
  {
   "cell_type": "code",
   "execution_count": 13,
   "metadata": {},
   "outputs": [
    {
     "data": {
      "text/plain": [
       "[('Illinois', 'M', 0, 89600, 95012),\n",
       " ('Illinois', 'M', 1, 88445, 91829),\n",
       " ('Illinois', 'M', 2, 88729, 89547),\n",
       " ('Illinois', 'M', 3, 88868, 90037),\n",
       " ('Illinois', 'M', 4, 91947, 91111),\n",
       " ('Illinois', 'M', 5, 93894, 89802),\n",
       " ('Illinois', 'M', 6, 93676, 88931),\n",
       " ('Illinois', 'M', 7, 94818, 90940),\n",
       " ('Illinois', 'M', 8, 95035, 86943),\n",
       " ('Illinois', 'M', 9, 96436, 86055)]"
      ]
     },
     "execution_count": 13,
     "metadata": {},
     "output_type": "execute_result"
    }
   ],
   "source": [
    "from sqlalchemy import MetaData, Table, select\n",
    "\n",
    "metadata = MetaData()\n",
    "census = Table('census', metadata, autoload = True, autoload_with = engine)\n",
    "query = select([census]) # selecting all of the column in census table\n",
    "results = connection.execute(query).fetchmany(10)\n",
    "results"
   ]
  },
  {
   "cell_type": "code",
   "execution_count": 14,
   "metadata": {},
   "outputs": [
    {
     "name": "stdout",
     "output_type": "stream",
     "text": [
      "[('13', 'Illinois', 'IL', 'USA', 'state', '10', 'current', 'occupied', '', '17', 'Ill.', 'V', '2', 'Midwest', '3', 'East North Central', '7'), ('30', 'New Jersey', 'NJ', 'USA', 'state', '10', 'current', 'occupied', '', '34', 'N.J.', 'II', '1', 'Northeast', '2', 'Mid-Atlantic', '3'), ('34', 'North Dakota', 'ND', 'USA', 'state', '10', 'current', 'occupied', '', '38', 'N.D.', 'VIII', '2', 'Midwest', '4', 'West North Central', '8'), ('37', 'Oregon', 'OR', 'USA', 'state', '10', 'current', 'occupied', '', '41', 'Ore.', 'X', '4', 'West', '9', 'Pacific', '9'), ('51', 'Washington DC', 'DC', 'USA', 'capitol', '10', 'current', 'occupied', '', '11', '', 'III', '3', 'South', '5', 'South Atlantic', 'D.C.'), ('49', 'Wisconsin', 'WI', 'USA', 'state', '10', 'current', 'occupied', '', '55', 'Wis.', 'V', '2', 'Midwest', '3', 'East North Central', '7'), ('3', 'Arizona', 'AZ', 'USA', 'state', '10', 'current', 'occupied', '', '4', 'Ariz.', 'IX', '4', 'West', '8', 'Mountain', '9'), ('4', 'Arkansas', 'AR', 'USA', 'state', '10', 'current', 'occupied', '', '5', 'Ark.', 'VI', '3', 'South', '7', 'West South Central', '8'), ('6', 'Colorado', 'CO', 'USA', 'state', '10', 'current', 'occupied', '', '8', 'Colo.', 'VIII', '4', 'West', '8', 'Mountain', '10'), ('11', 'Hawaii', 'HI', 'USA', 'state', '10', 'current', 'occupied', '', '15', 'Hawaii', 'IX', '4', 'West', '9', 'Pacific', '9')]\n",
      "RMKeyView(['id', 'name', 'abbreviation', 'country', 'type', 'sort', 'status', 'occupied', 'notes', 'fips_state', 'assoc_press', 'standard_federal_region', 'census_region', 'census_region_name', 'census_division', 'census_division_name', 'circuit_court'])\n",
      "Illinois\n"
     ]
    }
   ],
   "source": [
    "from sqlalchemy import MetaData, Table, select\n",
    "\n",
    "metadata = MetaData()\n",
    "state_fact = Table('state_fact', metadata, autoload = True, autoload_with = engine)\n",
    "query = select([state_fact]) # selecting all of the column in state_fact table\n",
    "results = connection.execute(query).fetchmany(10)\n",
    "print(results)\n",
    "print(results[0].keys())\n",
    "print(results[0].name) # watch this line"
   ]
  },
  {
   "cell_type": "code",
   "execution_count": 15,
   "metadata": {},
   "outputs": [
    {
     "name": "stdout",
     "output_type": "stream",
     "text": [
      "[('Illinois', 'M', 0, 89600, 95012), ('Illinois', 'M', 1, 88445, 91829), ('Illinois', 'M', 2, 88729, 89547), ('Illinois', 'M', 3, 88868, 90037), ('Illinois', 'M', 4, 91947, 91111), ('Illinois', 'M', 5, 93894, 89802), ('Illinois', 'M', 6, 93676, 88931), ('Illinois', 'M', 7, 94818, 90940), ('Illinois', 'M', 8, 95035, 86943), ('Illinois', 'M', 9, 96436, 86055)]\n",
      "RMKeyView(['state', 'sex', 'age', 'pop2000', 'pop2008'])\n",
      "Illinois\n"
     ]
    }
   ],
   "source": [
    "from sqlalchemy import MetaData, Table, select\n",
    "\n",
    "metadata = MetaData()\n",
    "census = Table('census', metadata, autoload = True, autoload_with = engine)\n",
    "query = select([census]) # selecting all of the column in census table\n",
    "results = connection.execute(query).fetchmany(10)\n",
    "print(results)\n",
    "print(results[0].keys())\n",
    "print(results[0].state)  # watch this line"
   ]
  },
  {
   "attachments": {},
   "cell_type": "markdown",
   "metadata": {},
   "source": [
    "### Auto Join"
   ]
  },
  {
   "cell_type": "code",
   "execution_count": 16,
   "metadata": {},
   "outputs": [
    {
     "name": "stdout",
     "output_type": "stream",
     "text": [
      "[(95012, 'IL'), (95012, 'NJ'), (95012, 'ND'), (95012, 'OR'), (95012, 'DC'), (95012, 'WI'), (95012, 'AZ'), (95012, 'AR'), (95012, 'CO'), (95012, 'HI')]\n",
      "RMKeyView(['pop2008', 'abbreviation'])\n",
      "(95012, 'IL')\n"
     ]
    },
    {
     "name": "stderr",
     "output_type": "stream",
     "text": [
      "C:\\Users\\muham\\AppData\\Local\\Temp\\ipykernel_19568\\1977118855.py:2: SAWarning: SELECT statement has a cartesian product between FROM element(s) \"state_fact\" and FROM element \"census\".  Apply join condition(s) between each element to resolve.\n",
      "  results = connection.execute(query).fetchmany(10)\n"
     ]
    }
   ],
   "source": [
    "query = select([census.columns.pop2008, state_fact.columns.abbreviation])\n",
    "results = connection.execute(query).fetchmany(10)\n",
    "print(results)\n",
    "print(results[0].keys())\n",
    "print(results[0])"
   ]
  },
  {
   "attachments": {},
   "cell_type": "markdown",
   "metadata": {},
   "source": [
    "### Join "
   ]
  },
  {
   "cell_type": "code",
   "execution_count": 22,
   "metadata": {},
   "outputs": [
    {
     "data": {
      "text/plain": [
       "RMKeyView(['state', 'sex', 'age', 'pop2000', 'pop2008'])"
      ]
     },
     "execution_count": 22,
     "metadata": {},
     "output_type": "execute_result"
    }
   ],
   "source": [
    "from sqlalchemy import MetaData, Table, select\n",
    "\n",
    "metadata = MetaData()\n",
    "census = Table('census', metadata, autoload = True, autoload_with = engine)\n",
    "query = select([census]) # selecting all of the column in census table\n",
    "results = connection.execute(query).fetchmany(10)\n",
    "results[0].keys()"
   ]
  },
  {
   "cell_type": "code",
   "execution_count": 24,
   "metadata": {},
   "outputs": [
    {
     "name": "stdout",
     "output_type": "stream",
     "text": [
      "RMKeyView(['id', 'name', 'abbreviation', 'country', 'type', 'sort', 'status', 'occupied', 'notes', 'fips_state', 'assoc_press', 'standard_federal_region', 'census_region', 'census_region_name', 'census_division', 'census_division_name', 'circuit_court'])\n"
     ]
    }
   ],
   "source": [
    "from sqlalchemy import MetaData, Table, select\n",
    "\n",
    "metadata = MetaData()\n",
    "state_fact = Table('state_fact', metadata, autoload = True, autoload_with = engine)\n",
    "query = select([state_fact]) # selecting all of the column in state_fact table\n",
    "results = connection.execute(query).fetchmany(10)\n",
    "\n",
    "print(results[0].keys())\n"
   ]
  },
  {
   "cell_type": "code",
   "execution_count": 26,
   "metadata": {},
   "outputs": [
    {
     "name": "stdout",
     "output_type": "stream",
     "text": [
      "16982311\n"
     ]
    }
   ],
   "source": [
    "\n",
    "# JOINING THE TABLE\n",
    "\n",
    "query = select([func.sum(census.columns.pop2000)])\n",
    "query = query.select_from(\n",
    "                    census.join(state_fact, census.columns.state == state_fact.columns.name)) # matching the column\n",
    "query = query.where(state_fact.columns.census_division_name == 'East South Central') #With filter, but it actually possible without filter top\n",
    "results = connection.execute(query).scalar()\n",
    "print(results)"
   ]
  },
  {
   "attachments": {},
   "cell_type": "markdown",
   "metadata": {},
   "source": [
    "# Hierarchical tables"
   ]
  },
  {
   "cell_type": "code",
   "execution_count": null,
   "metadata": {},
   "outputs": [],
   "source": []
  }
 ],
 "metadata": {
  "kernelspec": {
   "display_name": "Python 3",
   "language": "python",
   "name": "python3"
  },
  "language_info": {
   "codemirror_mode": {
    "name": "ipython",
    "version": 3
   },
   "file_extension": ".py",
   "mimetype": "text/x-python",
   "name": "python",
   "nbconvert_exporter": "python",
   "pygments_lexer": "ipython3",
   "version": "3.10.6"
  },
  "orig_nbformat": 4
 },
 "nbformat": 4,
 "nbformat_minor": 2
}
